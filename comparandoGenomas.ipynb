{
  "nbformat": 4,
  "nbformat_minor": 0,
  "metadata": {
    "colab": {
      "name": "Untitled4.ipynb",
      "provenance": [],
      "authorship_tag": "ABX9TyN5dC5KDCJzaZfptauPom8h",
      "include_colab_link": true
    },
    "kernelspec": {
      "name": "python3",
      "display_name": "Python 3"
    },
    "language_info": {
      "name": "python"
    }
  },
  "cells": [
    {
      "cell_type": "markdown",
      "metadata": {
        "id": "view-in-github",
        "colab_type": "text"
      },
      "source": [
        "<a href=\"https://colab.research.google.com/github/carloscelestino1/CaseWork/blob/main/comparandoGenomas.ipynb\" target=\"_parent\"><img src=\"https://colab.research.google.com/assets/colab-badge.svg\" alt=\"Open In Colab\"/></a>"
      ]
    },
    {
      "cell_type": "code",
      "execution_count": 48,
      "metadata": {
        "id": "sW_F2xOLtk8u"
      },
      "outputs": [],
      "source": [
        "import matplotlib.pyplot as plt\n",
        "import random"
      ]
    },
    {
      "cell_type": "code",
      "source": [
        "entrada = open('bacteria.fasta').read()\n",
        "saida = open('bacteria.html', 'w')\n",
        "\n",
        "cont = {}\n",
        "for i in ['A','T','C','G']:    #criando as Keys no dicionário a partir das repetiçoes dos pares\n",
        "  for j in ['A','T','C','G']:  \n",
        "    cont[i+j] = 0\n"
      ],
      "metadata": {
        "id": "c6FGrchft84c"
      },
      "execution_count": 49,
      "outputs": []
    },
    {
      "cell_type": "code",
      "source": [
        "entrada = entrada.replace('\\n','') #substituir a quebra de linha por nada.\n",
        "\n",
        "\n",
        "for k in range(len(entrada)-1): #percorrendo o valor da entrada\n",
        "  cont[entrada[k]+entrada[k+1]] += 1"
      ],
      "metadata": {
        "id": "wLNDqKU6t869"
      },
      "execution_count": 50,
      "outputs": []
    },
    {
      "cell_type": "code",
      "source": [
        "#html\n",
        "saida.write(\"<div>\")\n",
        "i = 1\n",
        "for k in cont:\n",
        "  transparencia = cont[k]/max(cont.values())\n",
        "  saida.write(\"<div style='width:100px; border:1px solid #111;color:#fff; height:100px;float:left; background-color:rgba(0,0,0,\"+str(transparencia)+\"')>\"+k+\"</div>\")\n",
        "  if i%4 == 0:\n",
        "    saida.write(\"<div style='clear:both'></div>\")#quebra de linha \n",
        "    i+=1\n",
        "\n",
        "saida.close()"
      ],
      "metadata": {
        "id": "LfD5uF9mt89e"
      },
      "execution_count": 54,
      "outputs": []
    },
    {
      "cell_type": "code",
      "source": [],
      "metadata": {
        "id": "iT0-pNact9AG"
      },
      "execution_count": 54,
      "outputs": []
    },
    {
      "cell_type": "code",
      "source": [
        "entrada = open('human.fasta').read()\n",
        "saida = open('human.html', 'w')\n",
        "\n",
        "cont = {}\n",
        "for i in ['A','T','C','G']:    #criando as Keys no dicionário a partir das repetiçoes dos pares\n",
        "  for j in ['A','T','C','G']:  \n",
        "    cont[i+j] = 0\n"
      ],
      "metadata": {
        "id": "cSd2RQF-t9Ce"
      },
      "execution_count": 55,
      "outputs": []
    },
    {
      "cell_type": "code",
      "source": [
        "entrada = entrada.replace('\\n','') #substituir a quebra de linha por nada.\n",
        "\n",
        "\n",
        "for k in range(len(entrada)-1): #percorrendo o valor da entrada\n",
        "  cont[entrada[k]+entrada[k+1]] += 1"
      ],
      "metadata": {
        "id": "YN_JtPU5t9E5"
      },
      "execution_count": 56,
      "outputs": []
    },
    {
      "cell_type": "code",
      "source": [
        "#html\n",
        "i = 1\n",
        "for k in cont:\n",
        "  transparencia = cont[k]/max(cont.values())\n",
        "  saida.write(\"<div style='width:100px; border:1px solid #111; color:fff; height:100px;float:left; background-color:rgba(0,0,0,\"+str(transparencia)+\"')>\"+k+\"</div>\")\n",
        "  if i%4 == 0:\n",
        "    saida.write(\"<div style='clear:both'></div>\")#quebra de linha \n",
        "    i+=1\n",
        "\n",
        "saida.close()"
      ],
      "metadata": {
        "id": "I4VwbnTDt9Hh"
      },
      "execution_count": 57,
      "outputs": []
    },
    {
      "cell_type": "code",
      "source": [
        "#Estrutura do DNA. Fonte: https://se.wikipedia.org/wiki/Fiila:Dna-base-flipping.svg\n",
        "\n",
        "#Estrutura do RNA. Fonte:https://www.ncbi.nlm.nih.gov/nuccore/M10098.1?report=fasta"
      ],
      "metadata": {
        "id": "t1Ff8OWT4KpX"
      },
      "execution_count": 58,
      "outputs": []
    }
  ]
}